{
  "nbformat": 4,
  "nbformat_minor": 0,
  "metadata": {
    "colab": {
      "provenance": []
    },
    "kernelspec": {
      "name": "python3",
      "display_name": "Python 3"
    },
    "language_info": {
      "name": "python"
    }
  },
  "cells": [
    {
      "cell_type": "markdown",
      "source": [
        "\n",
        "# 🧠 Mini Word Embedding from Scratch (Word2Vec-Style)\n",
        "\n",
        "This notebook implements a **word embedding model** using the **Skip-gram** approach with **negative sampling**, built entirely from scratch using NumPy.\n",
        "\n",
        "### 🔍 Features:\n",
        "- Clean text preprocessing\n",
        "- Vocabulary building with frequency filtering\n",
        "- Skip-gram pair generation\n",
        "- Custom training loop (with negative sampling)\n",
        "- 2D embedding visualization with PCA\n",
        "\n",
        "> ✅ Ideal for learning how Word2Vec works internally step-by-step.\n"
      ],
      "metadata": {
        "id": "wmRCxwLO_bG9"
      }
    },
    {
      "cell_type": "markdown",
      "metadata": {
        "id": "a2339ae3"
      },
      "source": [
        "### Preprocessing the Text\n",
        "\n",
        "This cell defines a function `preprocess` that takes raw text as input and prepares it for training the Skip-gram model.\n"
      ]
    },
    {
      "cell_type": "code",
      "execution_count": 8,
      "metadata": {
        "id": "Te7KKHQItQTo"
      },
      "outputs": [],
      "source": [
        "import re\n",
        "from collections import Counter\n",
        "\n",
        "def preprocess(text):\n",
        "    text = text.lower()\n",
        "    text = re.sub(r'[^a-z\\s]', '', text)\n",
        "    tokens = text.split()\n",
        "    return tokens"
      ]
    },
    {
      "cell_type": "markdown",
      "metadata": {
        "id": "fa9d15a1"
      },
      "source": [
        "- **`import re`**: Imports the regular expression module, used for pattern matching in strings.\n",
        "- **`from collections import Counter`**: Imports the `Counter` class, a specialized dictionary subclass for counting hashable objects.\n",
        "- **`def preprocess(text):`**: Defines the preprocessing function.\n",
        "    - **`text = text.lower()`**: Converts the input text to lowercase to ensure that words like \"The\" and \"the\" are treated as the same word.\n",
        "    - **`text = re.sub(r'[^a-z\\s]', '', text)`**: Uses regular expressions to remove any characters that are not lowercase letters or whitespace. This cleans up the text by removing punctuation and numbers.\n",
        "    - **`tokens = text.split()`**: Splits the cleaned text into a list of individual words (tokens) based on whitespace.\n",
        "    - **`return tokens`**: Returns the list of tokens."
      ]
    },
    {
      "cell_type": "markdown",
      "metadata": {
        "id": "b9d3f997"
      },
      "source": [
        "### Building the Vocabulary\n",
        "\n",
        "This cell defines a function `build_vocab` that creates a vocabulary of unique words from the preprocessed tokens.\n"
      ]
    },
    {
      "cell_type": "code",
      "source": [
        "def build_vocab(tokens, min_count=1):\n",
        "    word_counts = Counter(tokens)\n",
        "    vocab = [word for word, count in word_counts.items() if count >= min_count]\n",
        "    word2idx = {word: i for i, word in enumerate(vocab)}\n",
        "    idx2word = {i: word for word, i in word2idx.items()}\n",
        "    return vocab, word2idx, idx2word\n",
        "\n",
        "# build_vocab(tokens, min_count=1)"
      ],
      "metadata": {
        "id": "SzHkNxFytWwY"
      },
      "execution_count": 37,
      "outputs": []
    },
    {
      "cell_type": "markdown",
      "metadata": {
        "id": "4bb720f1"
      },
      "source": [
        "- **`def build_vocab(tokens, min_count=1):`**: Defines the vocabulary building function.\n",
        "    - **`word_counts = Counter(tokens)`**: Uses the `Counter` class to count the occurrences of each word in the input `tokens` list.\n",
        "    - **`vocab = [word for word, count in word_counts.items() if count >= min_count]`**: Creates a list of words that appear at least `min_count` times. This helps to filter out rare words that might not provide useful information for training.\n",
        "    - **`word2idx = {word: i for i, word in enumerate(vocab)}`**: Creates a dictionary mapping each word in the vocabulary to a unique integer index.\n",
        "    - **`idx2word = {i: word for word, i in word2idx.items()}`**: Creates a reverse dictionary mapping each integer index back to its corresponding word.\n",
        "    - **`return vocab, word2idx, idx2word`**: Returns the vocabulary list, the word-to-index mapping, and the index-to-word mapping.\n"
      ]
    },
    {
      "cell_type": "markdown",
      "metadata": {
        "id": "493fc3b2"
      },
      "source": [
        "### Generating Skip-gram Pairs\n",
        "\n",
        "This cell defines a function `generate_skip_grams` that creates pairs of (target word, context word) from the tokens. These pairs are the training data for the Skip-gram model.\n"
      ]
    },
    {
      "cell_type": "code",
      "source": [
        "def generate_skip_grams(tokens, word2idx, window_size=2):\n",
        "    pairs = []\n",
        "    for i, target in enumerate(tokens):\n",
        "        for j in range(-window_size, window_size + 1):\n",
        "            if j == 0 or i + j < 0 or i + j >= len(tokens):\n",
        "                continue\n",
        "            context = tokens[i + j]\n",
        "            pairs.append((word2idx[target], word2idx[context]))\n",
        "    return pairs\n",
        "\n",
        "# generate_skip_grams(tokens, word2idx, window_size=2)"
      ],
      "metadata": {
        "id": "-cqY_ztNtYbQ"
      },
      "execution_count": 38,
      "outputs": []
    },
    {
      "cell_type": "markdown",
      "metadata": {
        "id": "91899724"
      },
      "source": [
        "- **`def generate_skip_grams(tokens, word2idx, window_size=2):`**: Defines the skip-gram pair generation function.\n",
        "    - **`pairs = []`**: Initializes an empty list to store the skip-gram pairs.\n",
        "    - **`for i, target in enumerate(tokens):`**: Iterates through each token in the `tokens` list, considering each token as a potential target word.\n",
        "    - **`for j in range(-window_size, window_size + 1):`**: Iterates through a window of size `window_size` around the target word.\n",
        "    - **`if j == 0 or i + j < 0 or i + j >= len(tokens):`**: Skips the target word itself (`j == 0`) and ensures that the context word index is within the bounds of the `tokens` list.\n",
        "    - **`context = tokens[i + j]`**: Gets the context word within the window.\n",
        "    - **`pairs.append((word2idx[target], word2idx[context]))`**: Appends a tuple of the target word's index and the context word's index to the `pairs` list.\n",
        "    - **`return pairs`**: Returns the list of skip-gram pairs."
      ]
    },
    {
      "cell_type": "markdown",
      "metadata": {
        "id": "f8e4c454"
      },
      "source": [
        "### Initializing Word Embeddings\n",
        "\n",
        "This cell defines a function `initialize_embeddings` that initializes the weight matrices for the target and context word embeddings.\n"
      ]
    },
    {
      "cell_type": "code",
      "source": [
        "import numpy as np\n",
        "\n",
        "def initialize_embeddings(vocab_size, embedding_dim):\n",
        "    W_target = np.random.rand(vocab_size, embedding_dim)\n",
        "    W_context = np.random.rand(vocab_size, embedding_dim)\n",
        "    return W_target, W_context"
      ],
      "metadata": {
        "id": "JJ9z9BLBtaEL"
      },
      "execution_count": 31,
      "outputs": []
    },
    {
      "cell_type": "markdown",
      "metadata": {
        "id": "08a11a8f"
      },
      "source": [
        "- **`import numpy as np`**: Imports the NumPy library, which is essential for numerical operations, especially matrix operations.\n",
        "- **`def initialize_embeddings(vocab_size, embedding_dim):`**: Defines the embedding initialization function.\n",
        "    - **`W_target = np.random.rand(vocab_size, embedding_dim)`**: Creates a NumPy array (matrix) of size `vocab_size` by `embedding_dim` with random values. This matrix will store the target word embeddings. Each row corresponds to a word in the vocabulary, and each column represents a dimension in the embedding space.\n",
        "    - **`W_context = np.random.rand(vocab_size, embedding_dim)`**: Creates another NumPy array of the same size for the context word embeddings.\n",
        "    - **`return W_target, W_context`**: Returns both the target and context embedding matrices.\n"
      ]
    },
    {
      "cell_type": "markdown",
      "metadata": {
        "id": "d67a9e16"
      },
      "source": [
        "### Training the Skip-gram Model\n",
        "\n",
        "This cell defines the core training function `train_skipgram` which implements the Skip-gram algorithm with negative sampling.\n"
      ]
    },
    {
      "cell_type": "code",
      "source": [
        "def sigmoid(x):\n",
        "    return 1 / (1 + np.exp(-x))\n",
        "\n",
        "def train_skipgram(pairs, W_target, W_context, epochs=1000, lr=0.01, neg_samples=5):\n",
        "    vocab_size = W_target.shape[0]\n",
        "\n",
        "    for epoch in range(epochs):\n",
        "        loss = 0\n",
        "        for target_idx, context_idx in pairs:\n",
        "            # Positive pair\n",
        "            v_t = W_target[target_idx]\n",
        "            v_c = W_context[context_idx]\n",
        "            score = sigmoid(np.dot(v_t, v_c))\n",
        "            grad = lr * (1 - score)\n",
        "            W_target[target_idx] += grad * v_c\n",
        "            W_context[context_idx] += grad * v_t\n",
        "            loss += -np.log(score + 1e-9)\n",
        "\n",
        "            # Negative samples\n",
        "            for _ in range(neg_samples):\n",
        "                neg_idx = np.random.randint(0, vocab_size)\n",
        "                if neg_idx == context_idx:\n",
        "                    continue\n",
        "                v_neg = W_context[neg_idx]\n",
        "                score_neg = sigmoid(np.dot(v_t, v_neg))\n",
        "                grad_neg = lr * (0 - score_neg)\n",
        "                W_target[target_idx] += grad_neg * v_neg\n",
        "                W_context[neg_idx] += grad_neg * v_t\n",
        "                loss += -np.log(1 - score_neg + 1e-9)\n",
        "        if epoch % 100 == 0:\n",
        "            print(f\"Epoch {epoch} Loss: {loss:.4f}\")\n",
        "    return W_target\n",
        "\n"
      ],
      "metadata": {
        "id": "OntLRn1htbtb"
      },
      "execution_count": 12,
      "outputs": []
    },
    {
      "cell_type": "markdown",
      "metadata": {
        "id": "0f8bea89"
      },
      "source": [
        "- **`def sigmoid(x):`**: Defines the sigmoid activation function, which squashes values between 0 and 1. This is used to calculate the probability of a context word appearing given a target word.\n",
        "- **`def train_skipgram(pairs, W_target, W_context, epochs=1000, lr=0.01, neg_samples=5):`**: Defines the training function.\n",
        "    - **`vocab_size = W_target.shape[0]`**: Gets the size of the vocabulary from the shape of the target embedding matrix.\n",
        "    - **`for epoch in range(epochs):`**: Iterates through the specified number of training epochs.\n",
        "    - **`loss = 0`**: Initializes the loss for the current epoch.\n",
        "    - **`for target_idx, context_idx in pairs:`**: Iterates through each skip-gram pair.\n",
        "        - **Positive pair**:\n",
        "            - **`v_t = W_target[target_idx]`**: Gets the embedding vector for the target word.\n",
        "            - **`v_c = W_context[context_idx]`**: Gets the embedding vector for the context word.\n",
        "            - **`score = sigmoid(np.dot(v_t, v_c))`**: Calculates the dot product of the target and context vectors and applies the sigmoid function to get the probability of this positive pair.\n",
        "            - **`grad = lr * (1 - score)`**: Calculates the gradient for the positive pair. The goal is to maximize the probability of the positive pair, so the gradient is proportional to `(1 - score)`.\n",
        "            - **`W_target[target_idx] += grad * v_c`**: Updates the target word embedding using the calculated gradient and the context vector.\n",
        "            - **`W_context[context_idx] += grad * v_t`**: Updates the context word embedding using the calculated gradient and the target vector.\n",
        "            - **`loss += -np.log(score + 1e-9)`**: Adds the negative log-likelihood of the positive pair to the loss. We add a small value (1e-9) to the score to prevent taking the logarithm of zero.\n",
        "        - **Negative samples**:\n",
        "            - **`for _ in range(neg_samples):`**: Generates `neg_samples` random negative samples.\n",
        "            - **`neg_idx = np.random.randint(0, vocab_size)`**: Randomly selects an index for a negative context word.\n",
        "            - **`if neg_idx == context_idx:`**: Skips if the randomly selected negative index is the same as the positive context index.\n",
        "            - **`v_neg = W_context[neg_idx]`**: Gets the embedding vector for the negative context word.\n",
        "            - **`score_neg = sigmoid(np.dot(v_t, v_neg))`**: Calculates the probability of the target word appearing with the negative context word.\n",
        "            - **`grad_neg = lr * (0 - score_neg)`**: Calculates the gradient for the negative sample. The goal is to minimize the probability of the negative pair, so the gradient is proportional to `(0 - score_neg)`.\n",
        "            - **`W_target[target_idx] += grad_neg * v_neg`**: Updates the target word embedding.\n",
        "            - **`W_context[neg_idx] += grad_neg * v_t`**: Updates the negative context word embedding.\n",
        "            - **`loss += -np.log(1 - score_neg + 1e-9)`**: Adds the negative log-likelihood of the negative sample to the loss.\n",
        "        - **`if epoch % 100 == 0:`**: Prints the loss every 100 epochs to monitor training progress.\n",
        "    - **`return W_target`**: Returns the trained target word embedding matrix."
      ]
    },
    {
      "cell_type": "markdown",
      "metadata": {
        "id": "b3ea32f3"
      },
      "source": [
        "### Getting a Word Embedding\n",
        "\n",
        "This cell defines a simple function to retrieve the embedding vector for a specific word after training.\n"
      ]
    },
    {
      "cell_type": "code",
      "source": [
        "def get_word_embedding(word, word2idx, W_target):\n",
        "    return W_target[word2idx[word]]\n",
        "\n"
      ],
      "metadata": {
        "id": "rYcPf_9vtdPd"
      },
      "execution_count": 13,
      "outputs": []
    },
    {
      "cell_type": "markdown",
      "metadata": {
        "id": "27c7f27f"
      },
      "source": [
        "- **`def get_word_embedding(word, word2idx, W_target):`**: Defines the function to get a word embedding.\n",
        "    - **`return W_target[word2idx[word]]`**: Uses the `word2idx` dictionary to get the index of the input word and then retrieves the corresponding row (embedding vector) from the trained target embedding matrix `W_target`.\n"
      ]
    },
    {
      "cell_type": "markdown",
      "metadata": {
        "id": "a72e9f7d"
      },
      "source": [
        "### Running the Skip-gram Model\n",
        "\n",
        "This cell puts all the pieces together to run the Skip-gram model on a sample text.\n"
      ]
    },
    {
      "cell_type": "code",
      "source": [
        "text = \"king queen man woman king queen\"\n",
        "tokens = preprocess(text)\n",
        "# print(tokens)\n",
        "vocab, word2idx, idx2word = build_vocab(tokens)\n",
        "# print(vocab, word2idx, idx2word)\n",
        "pairs = generate_skip_grams(tokens, word2idx, window_size=2)\n",
        "# print(pairs)\n",
        "W_target, W_context = initialize_embeddings(len(vocab), embedding_dim=10)\n",
        "# print(W_target, W_context)\n",
        "W_trained = train_skipgram(pairs, W_target, W_context)\n",
        "# print(W_trained)\n",
        "\n",
        "# Get embedding for a word\n",
        "embedding = get_word_embedding(\"king\", word2idx, W_trained)\n",
        "print(\"Embedding for 'king':\", embedding)"
      ],
      "metadata": {
        "colab": {
          "base_uri": "https://localhost:8080/"
        },
        "id": "LnFjFJiStfQC",
        "outputId": "9563b57d-5b06-407e-fd44-306d5b927016"
      },
      "execution_count": 24,
      "outputs": [
        {
          "output_type": "stream",
          "name": "stdout",
          "text": [
            "Epoch 0 Loss: 143.8219\n",
            "Epoch 100 Loss: 37.8875\n",
            "Epoch 200 Loss: 37.3948\n",
            "Epoch 300 Loss: 38.1787\n",
            "Epoch 400 Loss: 35.7483\n",
            "Epoch 500 Loss: 36.3740\n",
            "Epoch 600 Loss: 37.1366\n",
            "Epoch 700 Loss: 34.3099\n",
            "Epoch 800 Loss: 33.9844\n",
            "Epoch 900 Loss: 36.4906\n",
            "Embedding for 'king': [-0.84717569  1.22623107  0.03480632  0.48761324 -0.23339249 -1.06556912\n",
            " -0.07377733 -0.15588278  0.57155795  1.01317445]\n"
          ]
        }
      ]
    },
    {
      "cell_type": "markdown",
      "metadata": {
        "id": "75778d32"
      },
      "source": [
        "- **`text = \"king queen man woman king queen\"`**: Defines the input text.\n",
        "- **`tokens = preprocess(text)`**: Preprocesses the text to get a list of tokens.\n",
        "- **`vocab, word2idx, idx2word = build_vocab(tokens)`**: Builds the vocabulary and the word-to-index/index-to-word mappings.\n",
        "- **`pairs = generate_skip_grams(tokens, word2idx, window_size=2)`**: Generates the skip-gram pairs from the tokens.\n",
        "- **`W_target, W_context = initialize_embeddings(len(vocab), embedding_dim=10)`**: Initializes the target and context embedding matrices with a specified embedding dimension (here, 10).\n",
        "- **`W_trained = train_skipgram(pairs, W_target, W_context)`**: Trains the Skip-gram model using the generated pairs and initialized embeddings.\n",
        "- **`embedding = get_word_embedding(\"king\", word2idx, W_trained)`**: Gets the trained embedding vector for the word \"king\".\n",
        "- **`print(\"Embedding for 'king':\", embedding)`**: Prints the embedding vector for \"king\".\n",
        "\n",
        "This example is very small, so the learned embeddings might not be very meaningful. In practice, Skip-gram is trained on very large text corpora to learn rich and useful word representations.\n",
        "\n",
        "### Libraries Used\n",
        "\n",
        "- **`re` (Regular Expression)**: Used for text cleaning and pattern matching in the `preprocess` function.\n",
        "- **`collections` (specifically `Counter`)**: Used for efficiently counting the frequency of words to build the vocabulary.\n",
        "- **`numpy`**: The fundamental library for numerical computation in Python. It's used for creating and manipulating the embedding matrices, performing dot products, and implementing the sigmoid function.\n"
      ]
    },
    {
      "cell_type": "code",
      "source": [
        "from sklearn.decomposition import PCA\n",
        "import matplotlib.pyplot as plt\n",
        "\n",
        "def plot_embeddings(W, idx2word):\n",
        "    # Reduce dimensions to 2D\n",
        "    pca = PCA(n_components=2)\n",
        "    reduced = pca.fit_transform(W)\n",
        "\n",
        "    # Plot\n",
        "    plt.figure(figsize=(8, 6))\n",
        "    for i, label in idx2word.items():\n",
        "        x, y = reduced[i]\n",
        "        plt.scatter(x, y)\n",
        "        plt.annotate(label, (x, y), fontsize=12)\n",
        "    plt.title(\"Word Embeddings (PCA)\")\n",
        "    plt.grid(True)\n",
        "    plt.show()"
      ],
      "metadata": {
        "id": "QhlnFH6DwJh9"
      },
      "execution_count": 39,
      "outputs": []
    },
    {
      "cell_type": "code",
      "source": [
        "plot_embeddings(W_trained, idx2word)"
      ],
      "metadata": {
        "colab": {
          "base_uri": "https://localhost:8080/",
          "height": 545
        },
        "id": "HsDa_H3fwJ5B",
        "outputId": "3b94fd88-beb6-439e-d99c-6383b523b98c"
      },
      "execution_count": 40,
      "outputs": [
        {
          "output_type": "display_data",
          "data": {
            "text/plain": [
              "<Figure size 800x600 with 1 Axes>"
            ],
            "image/png": "[encoded data removed]"
          },
          "metadata": {}
        }
      ]
    },
    {
      "cell_type": "code",
      "source": [
        "# 🧪 Full End-to-End Example\n",
        "\n",
        "# Input text\n",
        "text = \"king queen man woman king queen\"\n",
        "\n",
        "# Step 1: Preprocess\n",
        "tokens = preprocess(text)\n",
        "\n",
        "# Step 2: Build Vocab\n",
        "vocab, word2idx, idx2word = build_vocab(tokens)\n",
        "\n",
        "# Step 3: Generate Skip-gram Pairs\n",
        "pairs = generate_skip_grams(tokens, word2idx, window_size=2)\n",
        "\n",
        "# Step 4: Initialize Embeddings\n",
        "W_target, W_context = initialize_embeddings(len(vocab), embedding_dim=10)\n",
        "\n",
        "# Step 5: Train Embeddings\n",
        "W_trained = train_skipgram(pairs, W_target, W_context, epochs=1000, lr=0.05)\n",
        "\n",
        "# Step 6: Plot\n",
        "plot_embeddings(W_trained, idx2word)"
      ],
      "metadata": {
        "colab": {
          "base_uri": "https://localhost:8080/",
          "height": 764
        },
        "id": "Zi6ImqQxAHCL",
        "outputId": "6fd1e740-c956-45de-b66c-c5ea48f58771"
      },
      "execution_count": 42,
      "outputs": [
        {
          "output_type": "stream",
          "name": "stdout",
          "text": [
            "Epoch 0 Loss: 111.9189\n",
            "Epoch 100 Loss: 41.8249\n",
            "Epoch 200 Loss: 44.9434\n",
            "Epoch 300 Loss: 65.8238\n",
            "Epoch 400 Loss: 187.2175\n",
            "Epoch 500 Loss: 474.9543\n",
            "Epoch 600 Loss: 497.3584\n",
            "Epoch 700 Loss: 559.5282\n"
          ]
        },
        {
          "output_type": "stream",
          "name": "stderr",
          "text": [
            "/tmp/ipython-input-12-850048426.py:2: RuntimeWarning: overflow encountered in exp\n",
            "  return 1 / (1 + np.exp(-x))\n"
          ]
        },
        {
          "output_type": "stream",
          "name": "stdout",
          "text": [
            "Epoch 800 Loss: 580.2514\n",
            "Epoch 900 Loss: 518.0816\n"
          ]
        },
        {
          "output_type": "display_data",
          "data": {
            "text/plain": [
              "<Figure size 800x600 with 1 Axes>"
            ],
            "image/png": "[encoded data removed]"
          },
          "metadata": {}
        }
      ]
    },
    {
      "cell_type": "code",
      "source": [],
      "metadata": {
        "id": "M87EO_MJAOYi"
      },
      "execution_count": null,
      "outputs": []
    }
  ]
}